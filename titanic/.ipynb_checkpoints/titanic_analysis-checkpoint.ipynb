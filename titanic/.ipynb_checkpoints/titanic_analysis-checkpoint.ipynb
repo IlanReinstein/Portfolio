{
 "cells": [
  {
   "cell_type": "code",
   "execution_count": 5,
   "metadata": {
    "collapsed": false
   },
   "outputs": [],
   "source": [
    "import pandas as pd\n",
    "import numpy as np\n",
    "import os\n",
    "\n",
    "TITANIC_PATH = '/Users/IlanReinstein/Portfolio/titanic/data/'\n",
    "\n",
    "def load_train_data(train_path=TITANIC_PATH):\n",
    "    csv_path = os.path.join(train_path, \"train.csv\")\n",
    "    return pd.read_csv(csv_path, index_col='PassengerId')\n",
    "def load_test_data(test_path = TITANIC_PATH):\n",
    "    csv_path = os.path.join(test_path, 'test.csv')\n",
    "    return pd.read_csv(csv_path, index_col='PassengerId')"
   ]
  },
  {
   "cell_type": "code",
   "execution_count": 2,
   "metadata": {
    "collapsed": false
   },
   "outputs": [],
   "source": [
    "def substrings_in_string(big_string, substrings):\n",
    "    for substring in substrings:\n",
    "        if big_string.find(substring) != -1:\n",
    "            return substring\n",
    "    print big_string\n",
    "    return np.nan\n",
    "\n",
    "def replace_titles(x):\n",
    "    title=x['Title']\n",
    "    if title in ['Don', 'Major', 'Capt', 'Jonkheer', 'Rev', 'Col']:\n",
    "        return 'Mr'\n",
    "    elif title in ['Countess', 'Mme']:\n",
    "        return 'Mrs'\n",
    "    elif title in ['Mlle', 'Ms']:\n",
    "        return 'Miss'\n",
    "    elif title =='Dr':\n",
    "        if x['Sex']=='Male':\n",
    "            return 'Mr'\n",
    "        else:\n",
    "            return 'Mrs'\n",
    "    else:\n",
    "        return title\n",
    "\n",
    "\n",
    "def feature_eng(data):\n",
    "    title_list=['Mrs', 'Mr', 'Master', 'Miss', 'Major', 'Rev',\n",
    "                    'Dr', 'Ms', 'Mlle','Col', 'Capt', 'Mme', 'Countess',\n",
    "                    'Don', 'Jonkheer']\n",
    "    cabin_list = ['A', 'B', 'C', 'D', 'E', 'F', 'T', 'G', 'Unknown']\n",
    "    \n",
    "    data['Title'] = data.Name.map(lambda x: substrings_in_string(x, title_list))\n",
    "\n",
    "    data.Title = data.apply(replace_titles, axis=1)\n",
    "\n",
    "    data.Cabin = data.Cabin.replace(np.nan, 'Unknown')\n",
    "    data.Embarked = data.Embarked.replace(np.nan, 'Unknown')\n",
    "\n",
    "    data['Deck']=data['Cabin'].map(lambda x: substrings_in_string(x, cabin_list))\n",
    "\n",
    "    #Add new Features\n",
    "    data['family_size'] = data.SibSp + data.Parch\n",
    "\n",
    "    #Drop unnecesary columns and maintain\n",
    "    train_clean = data.drop(['Name', 'Ticket','Cabin'], axis = 1)\n",
    "    return train_clean\n",
    "\n"
   ]
  },
  {
   "cell_type": "code",
   "execution_count": 3,
   "metadata": {
    "collapsed": false
   },
   "outputs": [],
   "source": [
    "\n",
    "from sklearn.preprocessing import LabelBinarizer, OneHotEncoder, LabelEncoder, StandardScaler, Imputer\n",
    "\n",
    "def prepare_data(data):\n",
    "    \n",
    "    #CATEGORICAL PART\n",
    "    num_attr = ['Age', 'Fare', 'family_size', 'SibSp', 'Parch']\n",
    "    cat_attr = ['Sex', 'Title', 'Deck', 'Embarked']\n",
    "\n",
    "    data_num = data.drop(cat_attr, axis = 1)\n",
    "\n",
    "\n",
    "    binar = LabelBinarizer()\n",
    "    encod = LabelEncoder()\n",
    "    one_hot = OneHotEncoder()\n",
    "\n",
    "    data.Sex = binar.fit_transform(data.Sex)\n",
    "    data.Embarked = encod.fit_transform(data.Embarked)\n",
    "    data.Title = encod.fit_transform(data.Title)\n",
    "    data.Deck = encod.fit_transform(data.Deck)\n",
    "\n",
    "    data_clean_one_hot = pd.DataFrame(one_hot.fit_transform(data[['Sex', 'Title']]).toarray())\n",
    "        #NUMERICS\n",
    "    imputer = Imputer(strategy = 'median')\n",
    "    X_num = imputer.fit_transform(data_num)\n",
    "    data_num = pd.DataFrame(X_num, columns = data_num.columns)\n",
    "    data_num.Fare = data_num.Fare.replace(0,1)\n",
    "    data_num['log_fare'] = np.log(data_num.Fare)\n",
    "\n",
    "    scaler = StandardScaler()\n",
    "    data_num[['Age', 'Fare', 'log_fare']] = scaler.fit_transform(data_num[['Age', 'Fare', 'log_fare']])\n",
    "    data_clean_final = np.c_[data_clean_one_hot, data_num]\n",
    "\n",
    "\n",
    "    return data_clean_final\n",
    "\n",
    "#def topFeatureSelector(data):\n",
    "#    corr_matrix = data.corr()['Survived'].sort_values(ascending = False)\n",
    "#    top_features = corr_matrix[corr_matrix > 0.1]\n",
    "#    return data[top_features.index].drop('Survived', axis = 1).values"
   ]
  },
  {
   "cell_type": "code",
   "execution_count": 6,
   "metadata": {
    "collapsed": false
   },
   "outputs": [],
   "source": [
    "#LOAD DATA\n",
    "train = load_train_data()\n",
    "test = load_test_data()\n"
   ]
  },
  {
   "cell_type": "code",
   "execution_count": 7,
   "metadata": {
    "collapsed": false
   },
   "outputs": [],
   "source": [
    "y_train = train.Survived\n",
    "train = train.drop('Survived', axis = 1)\n",
    "train_clean = feature_eng(train)\n",
    "X_train = prepare_data(train_clean)\n",
    "\n",
    "#X_train_filt = topFeatureSelector(train_clean_data)\n",
    "\n",
    "test_clean = feature_eng(test)\n",
    "X_test = prepare_data(test_clean)\n",
    "#X_test_filt = topFeatureSelector(test_clean_data)"
   ]
  },
  {
   "cell_type": "code",
   "execution_count": null,
   "metadata": {
    "collapsed": true
   },
   "outputs": [],
   "source": []
  },
  {
   "cell_type": "code",
   "execution_count": 30,
   "metadata": {
    "collapsed": false,
    "scrolled": true
   },
   "outputs": [
    {
     "data": {
      "text/plain": [
       "[<matplotlib.lines.Line2D at 0x113b47e10>]"
      ]
     },
     "execution_count": 30,
     "metadata": {},
     "output_type": "execute_result"
    },
    {
     "data": {
      "image/png": "[encoded data removed]",
      "text/plain": [
       "<matplotlib.figure.Figure at 0x113797c50>"
      ]
     },
     "metadata": {},
     "output_type": "display_data"
    }
   ],
   "source": [
    "from sklearn.ensemble import RandomForestClassifier\n",
    "from sklearn.linear_model import SGDClassifier\n",
    "from sklearn.model_selection import cross_val_score, cross_val_predict\n",
    "from sklearn.metrics import precision_score, recall_score, precision_recall_curve\n",
    "%matplotlib inline\n",
    "import matplotlib.pyplot as plt\n",
    "\n",
    "sgd_clf = SGDClassifier(random_state = 42)\n",
    "sgd_clf.fit(X_train, y_train)\n",
    "scores_sgd = cross_val_predict(sgd_clf, X_train, y_train, method = 'decision_function', cv = 10)\n",
    "precision, recall, thresholds = precision_recall_curve(y_train, scores_sgd)\n",
    "\n",
    "plt.plot(recall, precision)\n",
    "#X_train.shape"
   ]
  },
  {
   "cell_type": "code",
   "execution_count": 385,
   "metadata": {
    "collapsed": false
   },
   "outputs": [],
   "source": [
    "#y_train_pred = cross_val_predict(forest, X_train, y_train, cv = 10)\n",
    "#precision_score(y_train, y_train_pred)"
   ]
  },
  {
   "cell_type": "code",
   "execution_count": 11,
   "metadata": {
    "collapsed": false
   },
   "outputs": [
    {
     "data": {
      "text/plain": [
       "GridSearchCV(cv=5, error_score='raise',\n",
       "       estimator=RandomForestClassifier(bootstrap=True, class_weight=None, criterion='gini',\n",
       "            max_depth=None, max_features='auto', max_leaf_nodes=None,\n",
       "            min_impurity_split=1e-07, min_samples_leaf=1,\n",
       "            min_samples_split=2, min_weight_fraction_leaf=0.0,\n",
       "            n_estimators=10, n_jobs=1, oob_score=False, random_state=None,\n",
       "            verbose=0, warm_start=False),\n",
       "       fit_params={}, iid=True, n_jobs=1,\n",
       "       param_grid=[{'n_estimators': [50, 500, 1000], 'max_features': [2, 4, 6, 10], 'bootstrap': [False], 'max_depth': [None], 'min_samples_split': [5, 10]}],\n",
       "       pre_dispatch='2*n_jobs', refit=True, return_train_score=True,\n",
       "       scoring='f1', verbose=0)"
      ]
     },
     "execution_count": 11,
     "metadata": {},
     "output_type": "execute_result"
    }
   ],
   "source": [
    "from sklearn.model_selection import GridSearchCV\n",
    "\n",
    "\n",
    "param_grid = [\n",
    "    {'n_estimators': [50,500,1000], 'max_features':[2,4,6,10],\n",
    "     'bootstrap':[False], 'max_depth':[None], 'min_samples_split':[5,10]}\n",
    "]\n",
    "\n",
    "forest_cl = RandomForestClassifier()\n",
    "\n",
    "grid_search =  GridSearchCV(forest_cl, param_grid, cv = 5, scoring = 'f1')\n",
    "\n",
    "grid_search.fit(X_train, y_train)"
   ]
  },
  {
   "cell_type": "code",
   "execution_count": 12,
   "metadata": {
    "collapsed": false
   },
   "outputs": [],
   "source": [
    "final_model = grid_search.best_estimator_\n",
    "y_pred = final_model.predict(X_test)\n"
   ]
  },
  {
   "cell_type": "code",
   "execution_count": 22,
   "metadata": {
    "collapsed": false
   },
   "outputs": [],
   "source": [
    "submission = {'Survived':y_pred}\n",
    "sub_csv = pd.DataFrame(submission, index = test_clean.index)\n",
    "sub_csv.to_csv('submission2.csv')"
   ]
  },
  {
   "cell_type": "code",
   "execution_count": 21,
   "metadata": {
    "collapsed": false
   },
   "outputs": [
    {
     "data": {
      "text/plain": [
       "array([0, 0, 0, 1, 1, 0, 0, 0, 0, 0, 0, 0, 1, 0, 1, 1, 0, 0, 0, 0, 0, 1, 1,\n",
       "       0, 1, 0, 1, 0, 0, 0, 0, 0, 1, 1, 0, 0, 1, 0, 0, 1, 0, 0, 0, 1, 1, 0,\n",
       "       0, 0, 1, 1, 1, 0, 1, 1, 0, 0, 0, 0, 0, 1, 0, 0, 0, 1, 1, 1, 1, 0, 0,\n",
       "       1, 1, 0, 0, 1, 1, 0, 0, 1, 0, 1, 1, 0, 0, 0, 0, 0, 1, 1, 1, 1, 1, 0,\n",
       "       1, 0, 0, 0, 1, 0, 1, 0, 1, 0, 0, 0, 1, 0, 0, 0, 0, 0, 0, 1, 1, 0, 1,\n",
       "       0, 1, 1, 0, 1, 1, 0, 1, 0, 0, 0, 0, 1, 0, 0, 0, 0, 0, 1, 0, 0, 1, 0,\n",
       "       1, 0, 0, 1, 0, 0, 0, 0, 0, 0, 0, 0, 1, 0, 0, 1, 0, 0, 1, 1, 0, 1, 1,\n",
       "       1, 1, 1, 0, 1, 0, 0, 1, 0, 0, 1, 0, 1, 0, 1, 1, 0, 1, 1, 0, 0, 1, 0,\n",
       "       1, 0, 1, 0, 0, 0, 0, 0, 1, 0, 1, 0, 1, 1, 0, 1, 0, 1, 0, 1, 0, 0, 0,\n",
       "       0, 1, 0, 0, 1, 0, 0, 1, 0, 1, 0, 1, 0, 1, 0, 1, 0, 1, 1, 0, 1, 0, 0,\n",
       "       0, 1, 0, 0, 0, 0, 0, 0, 1, 1, 1, 1, 0, 0, 1, 0, 1, 0, 1, 0, 1, 0, 1,\n",
       "       0, 0, 0, 0, 0, 1, 0, 0, 0, 1, 1, 0, 0, 0, 0, 1, 0, 0, 0, 1, 0, 1, 1,\n",
       "       0, 0, 0, 0, 0, 1, 1, 0, 1, 0, 1, 0, 1, 0, 1, 0, 1, 0, 0, 0, 1, 0, 0,\n",
       "       0, 0, 0, 0, 0, 1, 1, 0, 1, 0, 0, 0, 0, 0, 0, 1, 1, 0, 0, 0, 0, 0, 0,\n",
       "       0, 0, 1, 0, 1, 0, 0, 0, 1, 0, 1, 0, 0, 0, 0, 0, 0, 1, 0, 0, 0, 1, 1,\n",
       "       1, 0, 0, 0, 1, 1, 0, 0, 0, 1, 0, 1, 0, 0, 0, 0, 1, 1, 1, 1, 0, 0, 1,\n",
       "       1, 0, 0, 1, 0, 0, 1, 1, 0, 0, 0, 0, 0, 0, 1, 0, 0, 1, 0, 0, 0, 0, 0,\n",
       "       1, 1, 0, 0, 1, 0, 1, 0, 0, 1, 0, 1, 0, 1, 0, 0, 0, 1, 1, 1, 1, 1, 0,\n",
       "       1, 0, 0, 1])"
      ]
     },
     "execution_count": 21,
     "metadata": {},
     "output_type": "execute_result"
    }
   ],
   "source": [
    "y_pred"
   ]
  },
  {
   "cell_type": "code",
   "execution_count": null,
   "metadata": {
    "collapsed": true
   },
   "outputs": [],
   "source": []
  }
 ],
 "metadata": {
  "anaconda-cloud": {},
  "kernelspec": {
   "display_name": "Python [Root]",
   "language": "python",
   "name": "Python [Root]"
  },
  "language_info": {
   "codemirror_mode": {
    "name": "ipython",
    "version": 2
   },
   "file_extension": ".py",
   "mimetype": "text/x-python",
   "name": "python",
   "nbconvert_exporter": "python",
   "pygments_lexer": "ipython2",
   "version": "2.7.12"
  }
 },
 "nbformat": 4,
 "nbformat_minor": 0
}
